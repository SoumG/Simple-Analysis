{
  "nbformat": 4,
  "nbformat_minor": 0,
  "metadata": {
    "colab": {
      "name": "inferential_stat_case_study_solution.ipynb",
      "provenance": []
    },
    "kernelspec": {
      "name": "python3",
      "display_name": "Python 3"
    },
    "language_info": {
      "name": "python"
    }
  },
  "cells": [
    {
      "cell_type": "code",
      "metadata": {
        "id": "jINW6JF4-HmZ"
      },
      "source": [
        "# Importing all the Libraries\n",
        "\n",
        "# Data analysis packages:\n",
        "import pandas as pd\n",
        "import numpy as np\n",
        "#from datetime import datetime as dt\n",
        "\n",
        "# Visualization packages:\n",
        "import seaborn as sns\n",
        "import matplotlib.pyplot as plt\n",
        "%matplotlib inline"
      ],
      "execution_count": 8,
      "outputs": []
    },
    {
      "cell_type": "markdown",
      "metadata": {
        "id": "XGbi3TFXDOM4"
      },
      "source": [
        "#Importing Datset"
      ]
    },
    {
      "cell_type": "code",
      "metadata": {
        "colab": {
          "base_uri": "https://localhost:8080/",
          "height": 153
        },
        "id": "q9BgAaE2-Kq5",
        "outputId": "4fd1a83a-1734-4eb4-a0cc-0c6a4feae72c"
      },
      "source": [
        "dataset = pd.read_excel('Data_inferenstial_stat.xlsx')\n",
        "## Printing the number of samples in the dataset:\n",
        "print('The dataset has {0} samples.'.format(len(dataset)))\n",
        "\n",
        "## Printing out some few lines:\n",
        "dataset.head(3)"
      ],
      "execution_count": 14,
      "outputs": [
        {
          "output_type": "stream",
          "text": [
            "The dataset has 24 samples.\n"
          ],
          "name": "stdout"
        },
        {
          "output_type": "execute_result",
          "data": {
            "text/html": [
              "<div>\n",
              "<style scoped>\n",
              "    .dataframe tbody tr th:only-of-type {\n",
              "        vertical-align: middle;\n",
              "    }\n",
              "\n",
              "    .dataframe tbody tr th {\n",
              "        vertical-align: top;\n",
              "    }\n",
              "\n",
              "    .dataframe thead th {\n",
              "        text-align: right;\n",
              "    }\n",
              "</style>\n",
              "<table border=\"1\" class=\"dataframe\">\n",
              "  <thead>\n",
              "    <tr style=\"text-align: right;\">\n",
              "      <th></th>\n",
              "      <th>Congruent</th>\n",
              "      <th>Incongruent</th>\n",
              "    </tr>\n",
              "  </thead>\n",
              "  <tbody>\n",
              "    <tr>\n",
              "      <th>0</th>\n",
              "      <td>12.079</td>\n",
              "      <td>19.278</td>\n",
              "    </tr>\n",
              "    <tr>\n",
              "      <th>1</th>\n",
              "      <td>16.791</td>\n",
              "      <td>18.741</td>\n",
              "    </tr>\n",
              "    <tr>\n",
              "      <th>2</th>\n",
              "      <td>9.564</td>\n",
              "      <td>21.214</td>\n",
              "    </tr>\n",
              "  </tbody>\n",
              "</table>\n",
              "</div>"
            ],
            "text/plain": [
              "   Congruent  Incongruent\n",
              "0     12.079       19.278\n",
              "1     16.791       18.741\n",
              "2      9.564       21.214"
            ]
          },
          "metadata": {
            "tags": []
          },
          "execution_count": 14
        }
      ]
    },
    {
      "cell_type": "markdown",
      "metadata": {
        "id": "lxSoh_bjD4mt"
      },
      "source": [
        "Once we have understood the phenomenon and the data available, we can then characterize the variables we are working with, as follow:\n",
        "\n",
        "**Independent variable:** the independent variable is the one that does not depend on the sample and that are choosen a priori by the experimenter. In fact, it correspond to the variable we are trying to understand through the experiment. In this case, the independent variable is the condition of the set of words, i.e. whether the words are congruent or not. Put another way, we can imagine our independent variable condition assuming the value 0 when the words are congruents or assuming the value 1 if not.\n",
        "\n",
        "**Dependent variable:** on the other hand, the dependent variable varies accordingly to each sample. In this problem, it refers to the time to read and say out loud the color in which a set of words is printed."
      ]
    },
    {
      "cell_type": "markdown",
      "metadata": {
        "id": "KJGpwzVkEmG8"
      },
      "source": [
        "The distributions for each one of the states of our independent variable can then be described as follow, remembering that population refers to all the people and sample refers only to the subjects participating in the experiment:\n",
        "\n",
        "Time to read and say out loud the color of the congruent set of words:\n",
        "\n",
        "Population:  (μc,σc) ;\n",
        "Sample:  (X¯c,Sc) ;\n",
        "μc  is the mean time for reading a congruent set of words;\n",
        "σc  stands for the standard deviation when reading a congruent set of words;\n",
        "X¯c  is the sample mean time for reading a congruent set of words; and\n",
        "Sc  is the sample standard deviation when reading a congruent set of words.\n",
        "Time to read and say out loud the color of the incongruent set of words:\n",
        "\n",
        "Population:  (μi,σi) ;\n",
        "Sample:  (X¯i,Si) ;\n",
        "μi  is the mean time for reading an icongruent set of words;\n",
        "σi  stands for the standard deviation when reading an icongruent set of words;\n",
        "X¯i  is the sample mean time for reading an icongruent set of words; and\n",
        "Si  is the sample standard deviation when reading an icongruent set of words."
      ]
    },
    {
      "cell_type": "markdown",
      "metadata": {
        "id": "TCe25GiXFDGC"
      },
      "source": [
        "**Hypotheses to be explored**\n",
        "Does the time for reading incongruent words differ from that reading congruent ones?\n",
        "\n",
        "First of all, since the dataset we are considering has few samples, i.e. less than 30, we will assume that the population fits into a normal distribution. From this assumption we can then consider the sample mean as equivalent to the population mean. However, once we do not have the standard deviation of the population, it will be appropriate to consider a t-distribution.\n",
        "\n",
        "Furthermore, through the t-test we could infer how different the two population means (simbolized as  μc  and  μi  for congruent and incongruent set of words, respectively) are from each other, considering the measured samples.\n",
        "\n",
        "We know we are dealing with dependent sample (the subject who reads the congruent set of words is the same that reads the incongruent one), but we are interested in testing for an average difference among them. In [5] this approach of testing is also defined as paired t-Test.\n",
        "\n",
        "In order to do so, we first need to calculate the difference between the variables:"
      ]
    },
    {
      "cell_type": "code",
      "metadata": {
        "colab": {
          "base_uri": "https://localhost:8080/",
          "height": 135
        },
        "id": "GAqAGRgo-Nbi",
        "outputId": "0bce053c-2f27-434d-a484-47f2c2c4be27"
      },
      "source": [
        "dataset['Difference'] = dataset['Congruent'] - dataset['Incongruent']\n",
        "dataset.head(3)"
      ],
      "execution_count": 15,
      "outputs": [
        {
          "output_type": "execute_result",
          "data": {
            "text/html": [
              "<div>\n",
              "<style scoped>\n",
              "    .dataframe tbody tr th:only-of-type {\n",
              "        vertical-align: middle;\n",
              "    }\n",
              "\n",
              "    .dataframe tbody tr th {\n",
              "        vertical-align: top;\n",
              "    }\n",
              "\n",
              "    .dataframe thead th {\n",
              "        text-align: right;\n",
              "    }\n",
              "</style>\n",
              "<table border=\"1\" class=\"dataframe\">\n",
              "  <thead>\n",
              "    <tr style=\"text-align: right;\">\n",
              "      <th></th>\n",
              "      <th>Congruent</th>\n",
              "      <th>Incongruent</th>\n",
              "      <th>Difference</th>\n",
              "    </tr>\n",
              "  </thead>\n",
              "  <tbody>\n",
              "    <tr>\n",
              "      <th>0</th>\n",
              "      <td>12.079</td>\n",
              "      <td>19.278</td>\n",
              "      <td>-7.199</td>\n",
              "    </tr>\n",
              "    <tr>\n",
              "      <th>1</th>\n",
              "      <td>16.791</td>\n",
              "      <td>18.741</td>\n",
              "      <td>-1.950</td>\n",
              "    </tr>\n",
              "    <tr>\n",
              "      <th>2</th>\n",
              "      <td>9.564</td>\n",
              "      <td>21.214</td>\n",
              "      <td>-11.650</td>\n",
              "    </tr>\n",
              "  </tbody>\n",
              "</table>\n",
              "</div>"
            ],
            "text/plain": [
              "   Congruent  Incongruent  Difference\n",
              "0     12.079       19.278      -7.199\n",
              "1     16.791       18.741      -1.950\n",
              "2      9.564       21.214     -11.650"
            ]
          },
          "metadata": {
            "tags": []
          },
          "execution_count": 15
        }
      ]
    },
    {
      "cell_type": "markdown",
      "metadata": {
        "id": "Iqoh3pTeGRNN"
      },
      "source": [
        "Once we have calculated the difference among the congruent and incongruent distributions, we still can assume it follows a t-distribution having its mean represented by  μd , which is given by  (μd=μc−μi) , and its standard deviation represented by  σd . In the same way, the difference of the sample distributions has a mean time represented by  X¯d  and a standard deviation represented by  Sd ."
      ]
    },
    {
      "cell_type": "markdown",
      "metadata": {
        "id": "Ju6DtEnUGSXB"
      },
      "source": [
        "We then hypothesize as follow:\n",
        "\n",
        "**Null hypothesis:** the population difference is centered in zero, i.e., the mean time is the same for reading either congruent and incongruent set of words. This definition can be mathematically defined as:\n",
        "H0:μd=0 \n",
        "\n",
        "**Alternative hypothesis:**  the population difference is nonzero. If we observe the previous few measurements we notice the time is shorter for reading the congruent set of words, thereby we can hypothesize that reading congruent words is faster than reading the incongruent ones. Mathematically it is the same as obtaining a negative difference. Thus our alternative hypothesis can be narrowed to the following condition:\n",
        "Ha:μd<0"
      ]
    },
    {
      "cell_type": "markdown",
      "metadata": {
        "id": "eHTx1BY6Ggyg"
      },
      "source": [
        "# Descriptive Statistics"
      ]
    },
    {
      "cell_type": "markdown",
      "metadata": {
        "id": "hS-6tz_nGkzn"
      },
      "source": [
        "The term statistics here stands for the characteristics of the sample, in the way we could describe them in terms of its central tendency and variability.\n",
        "\n",
        "The Python Pandas library offers a function to generate the descriptive statistics for a given dataset, summarizing its central tendency, dispersion and shape of the dataset's distribution. For numerical data, as it is the case, this function results in the following statistics: count, mean, std for the standard deviation, min and max values, the lower percentile (25%), the median or 50% percentile, and the upper percentile (75%)."
      ]
    },
    {
      "cell_type": "code",
      "metadata": {
        "colab": {
          "base_uri": "https://localhost:8080/",
          "height": 282
        },
        "id": "0N5I1Q9x-eqy",
        "outputId": "3fb3ed0c-0149-4e5b-8cfc-627c1fdebd0d"
      },
      "source": [
        "## Obtaining the dataset descriptive statistics:\n",
        "dataset.describe(include='all')"
      ],
      "execution_count": 17,
      "outputs": [
        {
          "output_type": "execute_result",
          "data": {
            "text/html": [
              "<div>\n",
              "<style scoped>\n",
              "    .dataframe tbody tr th:only-of-type {\n",
              "        vertical-align: middle;\n",
              "    }\n",
              "\n",
              "    .dataframe tbody tr th {\n",
              "        vertical-align: top;\n",
              "    }\n",
              "\n",
              "    .dataframe thead th {\n",
              "        text-align: right;\n",
              "    }\n",
              "</style>\n",
              "<table border=\"1\" class=\"dataframe\">\n",
              "  <thead>\n",
              "    <tr style=\"text-align: right;\">\n",
              "      <th></th>\n",
              "      <th>Congruent</th>\n",
              "      <th>Incongruent</th>\n",
              "      <th>Difference</th>\n",
              "    </tr>\n",
              "  </thead>\n",
              "  <tbody>\n",
              "    <tr>\n",
              "      <th>count</th>\n",
              "      <td>24.000000</td>\n",
              "      <td>24.000000</td>\n",
              "      <td>24.000000</td>\n",
              "    </tr>\n",
              "    <tr>\n",
              "      <th>mean</th>\n",
              "      <td>14.051125</td>\n",
              "      <td>22.015917</td>\n",
              "      <td>-7.964792</td>\n",
              "    </tr>\n",
              "    <tr>\n",
              "      <th>std</th>\n",
              "      <td>3.559358</td>\n",
              "      <td>4.797057</td>\n",
              "      <td>4.864827</td>\n",
              "    </tr>\n",
              "    <tr>\n",
              "      <th>min</th>\n",
              "      <td>8.630000</td>\n",
              "      <td>15.687000</td>\n",
              "      <td>-21.919000</td>\n",
              "    </tr>\n",
              "    <tr>\n",
              "      <th>25%</th>\n",
              "      <td>11.895250</td>\n",
              "      <td>18.716750</td>\n",
              "      <td>-10.258500</td>\n",
              "    </tr>\n",
              "    <tr>\n",
              "      <th>50%</th>\n",
              "      <td>14.356500</td>\n",
              "      <td>21.017500</td>\n",
              "      <td>-7.666500</td>\n",
              "    </tr>\n",
              "    <tr>\n",
              "      <th>75%</th>\n",
              "      <td>16.200750</td>\n",
              "      <td>24.051500</td>\n",
              "      <td>-3.645500</td>\n",
              "    </tr>\n",
              "    <tr>\n",
              "      <th>max</th>\n",
              "      <td>22.328000</td>\n",
              "      <td>35.255000</td>\n",
              "      <td>-1.950000</td>\n",
              "    </tr>\n",
              "  </tbody>\n",
              "</table>\n",
              "</div>"
            ],
            "text/plain": [
              "       Congruent  Incongruent  Difference\n",
              "count  24.000000    24.000000   24.000000\n",
              "mean   14.051125    22.015917   -7.964792\n",
              "std     3.559358     4.797057    4.864827\n",
              "min     8.630000    15.687000  -21.919000\n",
              "25%    11.895250    18.716750  -10.258500\n",
              "50%    14.356500    21.017500   -7.666500\n",
              "75%    16.200750    24.051500   -3.645500\n",
              "max    22.328000    35.255000   -1.950000"
            ]
          },
          "metadata": {
            "tags": []
          },
          "execution_count": 17
        }
      ]
    },
    {
      "cell_type": "markdown",
      "metadata": {
        "id": "c5f9LbtuG73_"
      },
      "source": [
        "From the values above we can see that in both sample distributions the median is close to the mean value, as it is supposed to be in a normal distribution. Thus it gaves us an idea on how is the central tendency of these distributions. The standard deviation values give us the information on how these distributions are spread out, indicating that the congruent values are closer to their mean."
      ]
    },
    {
      "cell_type": "code",
      "metadata": {
        "colab": {
          "base_uri": "https://localhost:8080/",
          "height": 560
        },
        "id": "W8wggOqh-qgj",
        "outputId": "aa6592e4-b8e5-46fc-cf3c-acda1f530a11"
      },
      "source": [
        "fig1, ax = plt.subplots(figsize=[12,6])  #Defines the graph window size\n",
        "fig1.subplots_adjust(top=0.92)\n",
        "plt.suptitle('Sample distributions for Stroop Effect experiment', fontsize=14, fontweight='bold')\n",
        "\n",
        "sns.distplot(dataset['Congruent'], label='Congruent', ax=ax)\n",
        "sns.distplot(dataset['Incongruent'], label='Incongruent', ax=ax)\n",
        "sns.distplot(dataset['Difference'], label='Difference', ax=ax)\n",
        "ax.legend(ncol=2, loc=\"upper right\", frameon=True)\n",
        "\n",
        "ax.set_xlabel('Time to read and say out the printed color of the word set', fontsize=12)\n",
        "plt.show()"
      ],
      "execution_count": 18,
      "outputs": [
        {
          "output_type": "stream",
          "text": [
            "/usr/local/lib/python3.7/dist-packages/seaborn/distributions.py:2557: FutureWarning: `distplot` is a deprecated function and will be removed in a future version. Please adapt your code to use either `displot` (a figure-level function with similar flexibility) or `histplot` (an axes-level function for histograms).\n",
            "  warnings.warn(msg, FutureWarning)\n",
            "/usr/local/lib/python3.7/dist-packages/seaborn/distributions.py:2557: FutureWarning: `distplot` is a deprecated function and will be removed in a future version. Please adapt your code to use either `displot` (a figure-level function with similar flexibility) or `histplot` (an axes-level function for histograms).\n",
            "  warnings.warn(msg, FutureWarning)\n",
            "/usr/local/lib/python3.7/dist-packages/seaborn/distributions.py:2557: FutureWarning: `distplot` is a deprecated function and will be removed in a future version. Please adapt your code to use either `displot` (a figure-level function with similar flexibility) or `histplot` (an axes-level function for histograms).\n",
            "  warnings.warn(msg, FutureWarning)\n"
          ],
          "name": "stderr"
        },
        {
          "output_type": "display_data",
          "data": {
            "image/png": "[encoded data removed]",
            "text/plain": [
              "<Figure size 864x432 with 1 Axes>"
            ]
          },
          "metadata": {
            "tags": [],
            "needs_background": "light"
          }
        }
      ]
    },
    {
      "cell_type": "markdown",
      "metadata": {
        "id": "nE-pjkSzHekn"
      },
      "source": [
        "These observed descriptive statistics are confirmed in the plot below, where both sample distributions can be visualized. Also, the same observations are valid for the difference distribution ( X¯d ,  Sd ). Despite the outlier measurements in the distribution from incongruent word set and the skewness in the difference, it can be noticed that all of them follow an approximately normal curve."
      ]
    },
    {
      "cell_type": "markdown",
      "metadata": {
        "id": "iB0FlS_uHfg8"
      },
      "source": [
        "#3. Hypotheses Test"
      ]
    },
    {
      "cell_type": "markdown",
      "metadata": {
        "id": "W8VItzDPHr-A"
      },
      "source": [
        "In this section we will perform a t-test to evaluate the hypotheses \n",
        "\n",
        "Hypotheses to test:\n",
        "\n",
        "H0:μd=0 \n",
        "Ha:μd<0 \n",
        "One-tailed t-test with  α  level of  0.05  and dependent sample.\n",
        "\n",
        "Calculating degrees of freedom\n",
        "\n",
        "Since we are considering dependent sample, the degrees of freedom (df) are\n",
        "\n",
        " found by the following relation:\n",
        "\n",
        "df=n−1 , where  n  is the number of samples."
      ]
    },
    {
      "cell_type": "code",
      "metadata": {
        "colab": {
          "base_uri": "https://localhost:8080/"
        },
        "id": "RPB7IPaUHmEV",
        "outputId": "79e39c4b-7e6b-4a86-8f97-4a81a63bc535"
      },
      "source": [
        "n = len(dataset)\n",
        "df = n-1\n",
        "print('Degrees of freedom: {}'.format(df))"
      ],
      "execution_count": 19,
      "outputs": [
        {
          "output_type": "stream",
          "text": [
            "Degrees of freedom: 23\n"
          ],
          "name": "stdout"
        }
      ]
    },
    {
      "cell_type": "markdown",
      "metadata": {
        "id": "1dfgs-yWIGhN"
      },
      "source": [
        "Calculating the t-test parameters¶\n",
        "To proceed the test, we need then to calculate the sample mean,  X¯d , and its respective standard deviation  Sd :"
      ]
    },
    {
      "cell_type": "code",
      "metadata": {
        "colab": {
          "base_uri": "https://localhost:8080/"
        },
        "id": "yMPICgWaII1c",
        "outputId": "5736f98c-2aae-48f6-da75-276fdf1d861d"
      },
      "source": [
        "## Difference mean\n",
        "Xd = dataset['Difference'].mean()\n",
        "print('Sample mean = {}'.format(Xd))\n",
        "## Difference standard deviation\n",
        "Sd = dataset['Difference'].std()\n",
        "print('Sample std = {}'.format(Sd))"
      ],
      "execution_count": 20,
      "outputs": [
        {
          "output_type": "stream",
          "text": [
            "Sample mean = -7.964791666666664\n",
            "Sample std = 4.864826910359054\n"
          ],
          "name": "stdout"
        }
      ]
    },
    {
      "cell_type": "markdown",
      "metadata": {
        "id": "ydMq_HduIRMd"
      },
      "source": [
        "With these values, we can now calculate the standard error of the mean as follow:\n",
        "SEM=Sd/n−−√"
      ]
    },
    {
      "cell_type": "code",
      "metadata": {
        "colab": {
          "base_uri": "https://localhost:8080/"
        },
        "id": "j0mAebMGIR0M",
        "outputId": "6ae30f02-91d9-4e0c-c3c3-818bba20e9c8"
      },
      "source": [
        "SEM = Sd / np.sqrt(n)\n",
        "print('SEM = {}'.format(SEM))"
      ],
      "execution_count": 21,
      "outputs": [
        {
          "output_type": "stream",
          "text": [
            "SEM = 0.9930286347783402\n"
          ],
          "name": "stdout"
        }
      ]
    },
    {
      "cell_type": "markdown",
      "metadata": {
        "id": "Coc-lOexIYD-"
      },
      "source": [
        "Finally, the t-test value is obtained from the relation:\n",
        "t=X¯dSEM"
      ]
    },
    {
      "cell_type": "code",
      "metadata": {
        "colab": {
          "base_uri": "https://localhost:8080/"
        },
        "id": "3Dr7vy13Iaf9",
        "outputId": "de7b1219-7585-4f98-9d19-206b2cb11ca2"
      },
      "source": [
        "t = Xd / SEM\n",
        "print('t-test = {}'.format(t))"
      ],
      "execution_count": 22,
      "outputs": [
        {
          "output_type": "stream",
          "text": [
            "t-test = -8.020706944109957\n"
          ],
          "name": "stdout"
        }
      ]
    },
    {
      "cell_type": "markdown",
      "metadata": {
        "id": "EM57f7awIdyt"
      },
      "source": [
        "Calculating the p-value\n",
        "Since we have defined an  α  level, it is know we are considering a p-value less than  α , i.e.  p<0.05 . However, as this analysis runs over a computational platform, its exact value can be determined through the stats module of the SciPy library.\n"
      ]
    },
    {
      "cell_type": "code",
      "metadata": {
        "id": "U4m2oPSfIgGt"
      },
      "source": [
        "from scipy import stats"
      ],
      "execution_count": 23,
      "outputs": []
    },
    {
      "cell_type": "code",
      "metadata": {
        "colab": {
          "base_uri": "https://localhost:8080/"
        },
        "id": "BN0r1YtjIkMV",
        "outputId": "ddaff461-310a-4972-c45a-912617c9f74e"
      },
      "source": [
        "p = stats.t.cdf(t, df=df)\n",
        "print('p-value = {0:.9f}'.format(p))"
      ],
      "execution_count": 24,
      "outputs": [
        {
          "output_type": "stream",
          "text": [
            "p-value = 0.000000021\n"
          ],
          "name": "stdout"
        }
      ]
    },
    {
      "cell_type": "markdown",
      "metadata": {
        "id": "uTFBMTMFIvQ8"
      },
      "source": [
        "In order to check the consistency of the results we have found, we will use a SciPy function to calculate the t-value and p-value:"
      ]
    },
    {
      "cell_type": "code",
      "metadata": {
        "colab": {
          "base_uri": "https://localhost:8080/"
        },
        "id": "DPsFb4LOI1Sb",
        "outputId": "bd5ea86d-a7f0-46ec-90c4-60daf43dd92b"
      },
      "source": [
        "stats.ttest_rel(dataset['Congruent'],dataset['Incongruent'])"
      ],
      "execution_count": 25,
      "outputs": [
        {
          "output_type": "execute_result",
          "data": {
            "text/plain": [
              "Ttest_relResult(statistic=-8.020706944109959, pvalue=4.1030005857111556e-08)"
            ]
          },
          "metadata": {
            "tags": []
          },
          "execution_count": 25
        }
      ]
    },
    {
      "cell_type": "markdown",
      "metadata": {
        "id": "wFaiXyPkI5gE"
      },
      "source": [
        "Rejecting the null hypothesis\n",
        "\n",
        "The  tcritical  value is obtained from t-Table and when considering a one-tailed  α=0.05 , it corresponds to  tcritical=−1.714 .\n",
        "\n",
        "Since the t-test value is much less than t-critical, we reject the null which means we found significant statistics to affirm that people read faster a set of congruent words when compared to incongruent ones, which in turn is an evidence of the Stroop Effect.\n",
        "\n",
        "Finding the confidence interval\n",
        "\n",
        "The confidence interval (CI) is calculated from the following relation:\n",
        "CI=X¯d±ME ,\n",
        "\n",
        "where  ME  stands for margin of error and is calculated as follow:\n",
        "ME=tcritical∗SEM"
      ]
    },
    {
      "cell_type": "code",
      "metadata": {
        "colab": {
          "base_uri": "https://localhost:8080/"
        },
        "id": "-XnZtToTI8d8",
        "outputId": "36cb7e39-36c1-4ca2-c003-2fc846a6103a"
      },
      "source": [
        "t_critical = 1.714\n",
        "ME = t_critical*SEM\n",
        "CI = (Xd-ME, Xd+ME)\n",
        "print('Confidence interval: ({0:.2f}, {1:.2f})'.format(CI[0], CI[1]))"
      ],
      "execution_count": 26,
      "outputs": [
        {
          "output_type": "stream",
          "text": [
            "Confidence interval: (-9.67, -6.26)\n"
          ],
          "name": "stdout"
        }
      ]
    },
    {
      "cell_type": "markdown",
      "metadata": {
        "id": "JEpxcr7zJBqm"
      },
      "source": [
        "The CI above means that in average people read the congruent set of words almost 10 to 6 seconds faster than the incongruent one."
      ]
    },
    {
      "cell_type": "markdown",
      "metadata": {
        "id": "NbK5F5ofJCSw"
      },
      "source": [
        "# Conclusion"
      ]
    },
    {
      "cell_type": "markdown",
      "metadata": {
        "id": "foc_PWZyJFgt"
      },
      "source": [
        "In this analysis we presented the Stroop Effect and applyed a t-test to collect statistic evidence to support this perceptive phenomenon. In doing so, we have gone through the steps necessary to test a hypothesis as well as gain confidence that the method can be valid even for a small number of samples, provided certain conditions."
      ]
    }
  ]
}